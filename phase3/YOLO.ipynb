{
  "cells": [
    {
      "cell_type": "code",
      "execution_count": null,
      "id": "HM-y_cnKDpBo",
      "metadata": {
        "colab": {
          "base_uri": "https://localhost:8080/"
        },
        "id": "HM-y_cnKDpBo",
        "outputId": "bbeca974-77f9-4c28-955d-fa70020f2829"
      },
      "outputs": [],
      "source": [
        "!curl -L \"https://universe.roboflow.com/ds/FcbQKbFkj5?key=bKUCAKMXnQ\" > roboflow.zip; unzip roboflow.zip; rm roboflow.zip"
      ]
    },
    {
      "cell_type": "code",
      "execution_count": null,
      "id": "098ecddc-f4a3-4276-b6a6-688a40e60fcf",
      "metadata": {
        "colab": {
          "base_uri": "https://localhost:8080/"
        },
        "id": "098ecddc-f4a3-4276-b6a6-688a40e60fcf",
        "outputId": "0f7ecb77-9cf7-4fc9-afc3-8c15de8a1ebb"
      },
      "outputs": [],
      "source": [
        "!pip install ultralytics"
      ]
    },
    {
      "cell_type": "code",
      "execution_count": null,
      "id": "n3UDJNlTPlwY",
      "metadata": {
        "id": "n3UDJNlTPlwY"
      },
      "outputs": [],
      "source": [
        "from ultralytics import YOLO\n",
        "import pprint\n",
        "from PIL import Image"
      ]
    },
    {
      "cell_type": "code",
      "execution_count": null,
      "id": "2848974a-cca9-4006-97f5-2a85fee3fe65",
      "metadata": {
        "colab": {
          "base_uri": "https://localhost:8080/"
        },
        "id": "2848974a-cca9-4006-97f5-2a85fee3fe65",
        "outputId": "12fe6f8d-c8cf-4615-c5ce-644905e6a9b5"
      },
      "outputs": [],
      "source": [
        "\n",
        "# Load YOLOv8n model\n",
        "model = YOLO(\"yolov8n.pt\")\n",
        "\n"
      ]
    },
    {
      "cell_type": "code",
      "execution_count": null,
      "id": "2476c68d-9685-433e-bea1-811b941c4e00",
      "metadata": {
        "colab": {
          "base_uri": "https://localhost:8080/"
        },
        "id": "2476c68d-9685-433e-bea1-811b941c4e00",
        "outputId": "23c48523-c379-4f6f-c99e-b20cb6edc93f"
      },
      "outputs": [],
      "source": [
        "# Train the model\n",
        "result = model.train(data=\"data.yaml\", epochs=200, imgsz=640, resume=False)"
      ]
    },
    {
      "cell_type": "code",
      "execution_count": null,
      "id": "33c417bb-aa20-419b-96a0-3d5270fa1c46",
      "metadata": {
        "colab": {
          "base_uri": "https://localhost:8080/"
        },
        "id": "33c417bb-aa20-419b-96a0-3d5270fa1c46",
        "outputId": "7e940843-7d42-496b-e1b0-2e2422919507"
      },
      "outputs": [],
      "source": [
        "pp = pprint.PrettyPrinter(indent=4)\n",
        "\n",
        "pp.pprint(model.names)"
      ]
    },
    {
      "cell_type": "code",
      "execution_count": null,
      "id": "d45543f6-dfc7-465b-9319-9f1b3176f7e7",
      "metadata": {
        "colab": {
          "base_uri": "https://localhost:8080/"
        },
        "id": "d45543f6-dfc7-465b-9319-9f1b3176f7e7",
        "outputId": "83a55550-e7d1-4c5d-a68a-5d683bdab122",
        "scrolled": true
      },
      "outputs": [],
      "source": [
        "# Run the evaluation\n",
        "results = model.val(data=\"data.yaml\")\n",
        "\n"
      ]
    },
    {
      "cell_type": "code",
      "execution_count": null,
      "id": "S-tgpM-CMmOm",
      "metadata": {
        "colab": {
          "base_uri": "https://localhost:8080/",
          "height": 710
        },
        "id": "S-tgpM-CMmOm",
        "outputId": "b8750e84-62cc-4d0f-975c-f68cfd8d6878"
      },
      "outputs": [],
      "source": [
        "results = model(\"./test/images/image_90_jpeg.rf.09c7753062f032e06484201ccd6cf4e5.jpg\")\n",
        "results[0].save('prediction.jpg')\n",
        "\n",
        "im=Image.open('prediction.jpg')\n",
        "\n",
        "display(im)"
      ]
    },
    {
      "cell_type": "code",
      "execution_count": null,
      "id": "SKyXNH8aNBbR",
      "metadata": {
        "colab": {
          "base_uri": "https://localhost:8080/",
          "height": 499
        },
        "id": "SKyXNH8aNBbR",
        "outputId": "7562b99f-4c5e-4734-994b-1dc9a13c6e3f"
      },
      "outputs": [],
      "source": [
        "model.export(format=\"onnx\")"
      ]
    },
    {
      "cell_type": "code",
      "execution_count": null,
      "id": "27d586ed-49ff-4b66-86e3-f482fe3a155c",
      "metadata": {
        "id": "27d586ed-49ff-4b66-86e3-f482fe3a155c"
      },
      "outputs": [],
      "source": []
    }
  ],
  "metadata": {
    "accelerator": "GPU",
    "colab": {
      "gpuType": "T4",
      "provenance": []
    },
    "kernelspec": {
      "display_name": "Python 3",
      "name": "python3"
    },
    "language_info": {
      "codemirror_mode": {
        "name": "ipython",
        "version": 3
      },
      "file_extension": ".py",
      "mimetype": "text/x-python",
      "name": "python",
      "nbconvert_exporter": "python",
      "pygments_lexer": "ipython3",
      "version": "3.12.4"
    }
  },
  "nbformat": 4,
  "nbformat_minor": 5
}

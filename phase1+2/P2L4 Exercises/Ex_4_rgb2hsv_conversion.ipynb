{
 "cells": [
  {
   "cell_type": "code",
   "execution_count": 27,
   "id": "2ad0d617",
   "metadata": {},
   "outputs": [
    {
     "name": "stdout",
     "output_type": "stream",
     "text": [
      "h=112.46231155778894, s=87.66519823788545, v=89.01960784313725\n"
     ]
    }
   ],
   "source": [
    "import math\n",
    "# Python3 program change RGB Color \n",
    "# Model to HSV Color Model \n",
    "  \n",
    "def rgb_to_hsv(r, g, b): \n",
    "  \n",
    "    # R, G, B values are divided by 255 \n",
    "    # to change the range from 0..255 to 0..1: \n",
    "    r, g, b = r / 255.0, g / 255.0, b / 255.0\n",
    "  \n",
    "    # h, s, v = hue, saturation, value \n",
    "    cmax = max(r, g, b)    # maximum of r, g, b \n",
    "    cmin = min(r, g, b)    # minimum of r, g, b \n",
    "    diff = cmax-cmin       # diff of cmax and cmin. \n",
    "  \n",
    "    # if cmax and cmax are equal then h = 0 \n",
    "    if cmax == cmin:  \n",
    "        h = 0\n",
    "      \n",
    "    # if cmax equal r then compute h \n",
    "    elif cmax == r:  \n",
    "        h = (60 * ((g - b) / diff) + 360) % 360\n",
    "  \n",
    "    # if cmax equal g then compute h \n",
    "    elif cmax == g: \n",
    "        h = (60 * ((b - r) / diff) + 120) % 360\n",
    "  \n",
    "    # if cmax equal b then compute h \n",
    "    elif cmax == b: \n",
    "        h = (60 * ((r - g) / diff) + 240) % 360\n",
    "  \n",
    "    # if cmax equal zero \n",
    "    if cmax == 0: \n",
    "        s = 0\n",
    "    else: \n",
    "        s = (diff / cmax) * 100\n",
    "  \n",
    "    # compute v \n",
    "    v = cmax * 100\n",
    "    return h, s, v \n",
    "  \n",
    "  \n",
    "''' Driver Code '''\n",
    "# print(rgb_to_hsv(45, 215, 0)) \n",
    "# print(rgb_to_hsv(31, 52, 29)) \n",
    "h,s,v = rgb_to_hsv(53, 227, 28)\n",
    "  \n",
    "print(\"h={}, s={}, v={}\" .format(h,s,v) )\n"
   ]
  },
  {
   "cell_type": "code",
   "execution_count": 28,
   "id": "8f3d6261",
   "metadata": {},
   "outputs": [
    {
     "name": "stdout",
     "output_type": "stream",
     "text": [
      "h=74.97487437185929, s=210.39647577092506, v=106.8235294117647\n"
     ]
    }
   ],
   "source": [
    "### For comparing with Paint, Paint uses scale of 240\n",
    "\n",
    "# convert to Paint's scale\n",
    "\n",
    "h = h *240/360\n",
    "s = s *240/100\n",
    "v = v *120/100\n",
    "print(\"h={}, s={}, v={}\" .format(h,s,v) )"
   ]
  },
  {
   "cell_type": "code",
   "execution_count": null,
   "id": "fdf83a97",
   "metadata": {},
   "outputs": [],
   "source": []
  }
 ],
 "metadata": {
  "kernelspec": {
   "display_name": "Python 3 (ipykernel)",
   "language": "python",
   "name": "python3"
  },
  "language_info": {
   "codemirror_mode": {
    "name": "ipython",
    "version": 3
   },
   "file_extension": ".py",
   "mimetype": "text/x-python",
   "name": "python",
   "nbconvert_exporter": "python",
   "pygments_lexer": "ipython3",
   "version": "3.9.12"
  }
 },
 "nbformat": 4,
 "nbformat_minor": 5
}

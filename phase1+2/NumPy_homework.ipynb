{
 "cells": [
  {
   "cell_type": "code",
   "execution_count": 6,
   "metadata": {},
   "outputs": [],
   "source": [
    "import numpy as np"
   ]
  },
  {
   "cell_type": "markdown",
   "metadata": {},
   "source": [
    "1. Consider the matrices you encountered in the written test:\n",
    "\n"
   ]
  },
  {
   "cell_type": "markdown",
   "metadata": {},
   "source": [
    "$\n",
    "A = \\begin{bmatrix}\n",
    "0 & 7 & 7 \\\\\n",
    "2 & 9 & 1\n",
    "\\end{bmatrix}\n",
    "$,\n",
    "$\n",
    "B = \\begin{bmatrix}\n",
    "1 & 5 \\\\\n",
    "3 & 6\n",
    "\\end{bmatrix} \n",
    "$\n",
    "\n",
    "Calculate $BA$, $A^TB$, $B^TA$ using NumPy "
   ]
  },
  {
   "cell_type": "code",
   "execution_count": 9,
   "metadata": {},
   "outputs": [
    {
     "data": {
      "text/plain": [
       "array([[10, 52, 12],\n",
       "       [12, 75, 27]])"
      ]
     },
     "execution_count": 9,
     "metadata": {},
     "output_type": "execute_result"
    }
   ],
   "source": [
    "a = np.array([[0, 7, 7], [2, 9, 1]])\n",
    "b = np.array([[1, 5], [3, 6]])\n",
    "\n",
    "print(np.matmul(b, a))"
   ]
  },
  {
   "cell_type": "code",
   "execution_count": 10,
   "metadata": {},
   "outputs": [
    {
     "data": {
      "text/plain": [
       "array([[ 6, 12],\n",
       "       [34, 89],\n",
       "       [10, 41]])"
      ]
     },
     "execution_count": 10,
     "metadata": {},
     "output_type": "execute_result"
    }
   ],
   "source": [
    "a_T = np.transpose(a)\n",
    "print(np.matmul(a_T, b))"
   ]
  },
  {
   "cell_type": "code",
   "execution_count": 11,
   "metadata": {},
   "outputs": [
    {
     "data": {
      "text/plain": [
       "array([[ 6, 34, 10],\n",
       "       [12, 89, 41]])"
      ]
     },
     "execution_count": 11,
     "metadata": {},
     "output_type": "execute_result"
    }
   ],
   "source": [
    "b_T = np.transpose(b)\n",
    "print(np.matmul(b_T, a))"
   ]
  },
  {
   "cell_type": "markdown",
   "metadata": {},
   "source": [
    "2. Consider the matrix\n",
    "$\n",
    "A = \\begin{bmatrix}\n",
    "3 & 0 & 6 & 2 \\\\\n",
    "4 & 7 & 0 & 0 \\\\\n",
    "3 & 6 & 9 & 12\\\\\n",
    "2 & 4 & 6 & 8\n",
    "\\end{bmatrix}\n",
    "$, calculate $\\det(A)$ using NumPy. Does the inverse exist? If so, calculate it using NumPy."
   ]
  },
  {
   "cell_type": "code",
   "execution_count": 12,
   "metadata": {},
   "outputs": [
    {
     "data": {
      "text/plain": [
       "-1.5102205200686817e-13"
      ]
     },
     "execution_count": 12,
     "metadata": {},
     "output_type": "execute_result"
    }
   ],
   "source": [
    "A = np.array([[3, 0, 6, 2], [4, 7, 0, 0], [3, 6, 9, 12], [2, 4, 6, 8]])\n",
    "print(np.linalg.det(A))"
   ]
  },
  {
   "cell_type": "code",
   "execution_count": 14,
   "metadata": {},
   "outputs": [
    {
     "name": "stdout",
     "output_type": "stream",
     "text": [
      "[[ 3.04347826e-01  1.73913043e-01  1.66863049e+15 -2.50294573e+15]\n",
      " [-1.73913043e-01  4.34782609e-02 -9.53503135e+14  1.43025470e+15]\n",
      " [ 1.44927536e-02 -8.69565217e-02 -1.13890652e+15  1.70835978e+15]\n",
      " [-0.00000000e+00 -0.00000000e+00  9.13773837e+14 -1.37066076e+15]]\n"
     ]
    }
   ],
   "source": [
    "# Since determinant is basically 0, therefore no inverse\n",
    "print(np.linalg.inv(A)) # if there is an inverse, this is how to calculate"
   ]
  },
  {
   "cell_type": "markdown",
   "metadata": {},
   "source": [
    "3. Consider the matrix\n",
    "$\n",
    "B = \\begin{bmatrix}\n",
    "3 & 0 & 6 & 2 \\\\\n",
    "4 & 7 & 0 & 0 \\\\\n",
    "3 & 6 & 9 & 12\\\\\n",
    "2 & 4 & 6 & 9\n",
    "\\end{bmatrix}\n",
    "$, calculate $\\det(B)$ using NumPy. Does the inverse exist? If so, calculate it using NumPy."
   ]
  },
  {
   "cell_type": "code",
   "execution_count": 15,
   "metadata": {},
   "outputs": [
    {
     "name": "stdout",
     "output_type": "stream",
     "text": [
      "206.99999999999994\n"
     ]
    }
   ],
   "source": [
    "B = np.array([[3, 0, 6, 2], [4, 7, 0, 0], [3, 6, 9, 12], [2, 4, 6, 9]])\n",
    "print(np.linalg.det(B))"
   ]
  },
  {
   "cell_type": "code",
   "execution_count": 16,
   "metadata": {},
   "outputs": [
    {
     "name": "stdout",
     "output_type": "stream",
     "text": [
      "[[ 0.30434783  0.17391304 -1.42028986  1.82608696]\n",
      " [-0.17391304  0.04347826  0.8115942  -1.04347826]\n",
      " [ 0.01449275 -0.08695652  0.93236715 -1.24637681]\n",
      " [ 0.          0.         -0.66666667  1.        ]]\n"
     ]
    }
   ],
   "source": [
    "print(np.linalg.inv(B))"
   ]
  }
 ],
 "metadata": {
  "kernelspec": {
   "display_name": "Python 3",
   "language": "python",
   "name": "python3"
  },
  "language_info": {
   "codemirror_mode": {
    "name": "ipython",
    "version": 3
   },
   "file_extension": ".py",
   "mimetype": "text/x-python",
   "name": "python",
   "nbconvert_exporter": "python",
   "pygments_lexer": "ipython3",
   "version": "3.12.3"
  }
 },
 "nbformat": 4,
 "nbformat_minor": 2
}

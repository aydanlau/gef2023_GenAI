{
 "cells": [
  {
   "cell_type": "code",
   "execution_count": 10,
   "id": "a2886dff-17cf-499b-9ec4-e267e3d7684a",
   "metadata": {},
   "outputs": [],
   "source": [
    "import numpy as np\n",
    "import matplotlib.pyplot as plt\n",
    "from scipy import signal\n"
   ]
  },
  {
   "cell_type": "code",
   "execution_count": 8,
   "id": "996e795e-8c75-4265-9595-515ec9d4db39",
   "metadata": {},
   "outputs": [],
   "source": [
    "#Generate an image of letter H\n",
    "\n",
    "# A 200x200 image with a big white square at the centre\n",
    "image = np.zeros((200, 200), dtype=np.uint8)\n",
    "\n",
    "####--- parameters --------\n",
    "line_color = 255\n",
    "line_width = 20\n",
    "\n",
    "#---- horizontal and vertical begin --------#\n",
    "h_begin = 50\n",
    "h_end = 150\n",
    "v_begin = 50\n",
    "v_end = 150\n",
    "\n",
    "vm_begin = 100 - int(line_width/2)\n",
    "vm_end = 100 + int(line_width/2)\n",
    "#------------------------------------------------\n",
    "\n",
    "# Draw the letter H\n",
    "# left vertical strip\n",
    "image[v_begin:v_end, h_begin:(h_begin+line_width)] = line_color\n",
    "\n",
    "# right vertical strip\n",
    "image[v_begin:v_end, (h_end-line_width):h_end] = line_color\n",
    "\n",
    "# middle strip\n",
    "image[vm_begin:vm_end, h_begin:h_end] = line_color"
   ]
  },
  {
   "cell_type": "code",
   "execution_count": 9,
   "id": "cf69a723-70d6-4c1a-9798-b9f6a7e618ea",
   "metadata": {},
   "outputs": [
    {
     "data": {
      "text/plain": [
       "<matplotlib.image.AxesImage at 0x1680ee180>"
      ]
     },
     "execution_count": 9,
     "metadata": {},
     "output_type": "execute_result"
    },
    {
     "data": {
      "image/png": "[encoded data removed]",
      "text/plain": [
       "<Figure size 640x480 with 1 Axes>"
      ]
     },
     "metadata": {},
     "output_type": "display_data"
    }
   ],
   "source": [
    "#show image\n",
    "#plt.imshow(image)\n",
    "plt.imshow(image, cmap='gray')"
   ]
  },
  {
   "cell_type": "code",
   "execution_count": 13,
   "id": "215a1b23",
   "metadata": {},
   "outputs": [
    {
     "data": {
      "text/plain": [
       "<matplotlib.image.AxesImage at 0x16822f050>"
      ]
     },
     "execution_count": 13,
     "metadata": {},
     "output_type": "execute_result"
    },
    {
     "data": {
      "image/png": "[encoded data removed]",
      "text/plain": [
       "<Figure size 640x480 with 1 Axes>"
      ]
     },
     "metadata": {},
     "output_type": "display_data"
    }
   ],
   "source": [
    "image = np.zeros((200, 200, 3), dtype=np.uint8) # defining array with RGB\n",
    "\n",
    "line_color = (0, 255, 0) # green color\n",
    "line_width = 25\n",
    "\n",
    "# parameters for size of \"0\"\n",
    "x_left = 50\n",
    "x_right = 150\n",
    "y_up = 25\n",
    "y_down = 175\n",
    "\n",
    "# Setting each side of \"0\"\n",
    "image[y_up:(y_up + line_width), x_left:x_right] = line_color\n",
    "image[y_up:y_down, (x_right - line_width):x_right] = line_color\n",
    "image[(y_down - line_width): y_down, x_left:x_right] = line_color\n",
    "image[y_up:y_down, x_left:(x_left + line_width)] = line_color\n",
    "\n",
    "plt.imshow(image)"
   ]
  },
  {
   "cell_type": "code",
   "execution_count": 4,
   "id": "845324ab-6b34-4ea5-a630-49618c19c8bd",
   "metadata": {},
   "outputs": [],
   "source": [
    "# x-kernel \n",
    "sobelx = np.array([[-1, 0, 1],[-2, 0, 2],[-1, 0, 1]])\n",
    "\n",
    "#y-kernel\n",
    "sobely = np.array([[-1, -2, -1],[ 0,  0,  0],[ 1,  2,  1]])"
   ]
  },
  {
   "cell_type": "code",
   "execution_count": 5,
   "id": "d5f4d15b-5d85-4abc-93d4-09daeb28321a",
   "metadata": {},
   "outputs": [],
   "source": [
    "# Get the first derivative Ix\n",
    "Ix = signal.convolve2d(image, sobelx, \"same\")\n",
    "Iy = signal.convolve2d(image, sobely, \"same\")\n",
    "\n",
    "#--- scale non-zero values to 255\n",
    "#Ix[Ix != 0] = 255\n",
    "#Iy[Iy != 0] = 255"
   ]
  },
  {
   "cell_type": "code",
   "execution_count": 6,
   "id": "263563ec-0297-4c9e-95b4-53ea1930b9e0",
   "metadata": {},
   "outputs": [
    {
     "data": {
      "text/plain": [
       "<matplotlib.image.AxesImage at 0x1f7ee936e80>"
      ]
     },
     "execution_count": 6,
     "metadata": {},
     "output_type": "execute_result"
    },
    {
     "data": {
      "image/png": "[encoded data removed]",
      "text/plain": [
       "<Figure size 432x288 with 1 Axes>"
      ]
     },
     "metadata": {
      "needs_background": "light"
     },
     "output_type": "display_data"
    }
   ],
   "source": [
    "##----- Sobel\n",
    "#-- Find the sobel operator Sobel=sqrt( Ix*Ix + Iy*Iy )\n",
    "\n",
    "Sobel = np.sqrt( (Ix*Ix) + (Iy*Iy) )\n",
    "\n",
    "plt.imshow(Sobel, cmap='gray')"
   ]
  },
  {
   "cell_type": "code",
   "execution_count": null,
   "id": "71ecad2e",
   "metadata": {},
   "outputs": [],
   "source": []
  }
 ],
 "metadata": {
  "kernelspec": {
   "display_name": "Python 3 (ipykernel)",
   "language": "python",
   "name": "python3"
  },
  "language_info": {
   "codemirror_mode": {
    "name": "ipython",
    "version": 3
   },
   "file_extension": ".py",
   "mimetype": "text/x-python",
   "name": "python",
   "nbconvert_exporter": "python",
   "pygments_lexer": "ipython3",
   "version": "3.12.3"
  }
 },
 "nbformat": 4,
 "nbformat_minor": 5
}

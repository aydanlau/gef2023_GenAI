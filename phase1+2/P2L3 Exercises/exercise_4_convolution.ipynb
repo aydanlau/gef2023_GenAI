{
 "cells": [
  {
   "cell_type": "code",
   "execution_count": 6,
   "id": "8bc933e4",
   "metadata": {},
   "outputs": [],
   "source": [
    "import numpy as np\n",
    "import matplotlib.pyplot as plt\n",
    "from scipy import signal"
   ]
  },
  {
   "cell_type": "code",
   "execution_count": 7,
   "id": "3f146b3a",
   "metadata": {},
   "outputs": [
    {
     "data": {
      "text/plain": [
       "array([[ 1,  2,  3,  4],\n",
       "       [ 5,  6,  7,  8],\n",
       "       [ 9, 10, 11, 12],\n",
       "       [13, 14, 15, 16]])"
      ]
     },
     "execution_count": 7,
     "metadata": {},
     "output_type": "execute_result"
    }
   ],
   "source": [
    "# Create the image\n",
    "input_img = np.arange(1,17,1)\n",
    "input_img = input_img.reshape(4,4)\n",
    "\n",
    "# Create the Kernel\n",
    "kernel  = np.array([[1,0,-1],[2,0,-2],[1,0,-1]])\n",
    "\n",
    "input_img"
   ]
  },
  {
   "cell_type": "code",
   "execution_count": 15,
   "id": "e027116d",
   "metadata": {},
   "outputs": [
    {
     "data": {
      "text/plain": [
       "array([[ 1,  0, -1],\n",
       "       [ 2,  0, -2],\n",
       "       [ 1,  0, -1]])"
      ]
     },
     "execution_count": 15,
     "metadata": {},
     "output_type": "execute_result"
    }
   ],
   "source": [
    "kernel"
   ]
  },
  {
   "cell_type": "code",
   "execution_count": 13,
   "id": "14ae59c3",
   "metadata": {},
   "outputs": [
    {
     "data": {
      "text/plain": [
       "array([[ 10,   6,   6, -13],\n",
       "       [ 24,   8,   8, -28],\n",
       "       [ 40,   8,   8, -44],\n",
       "       [ 38,   6,   6, -41]])"
      ]
     },
     "execution_count": 13,
     "metadata": {},
     "output_type": "execute_result"
    }
   ],
   "source": [
    "signal.convolve2d(input_img, kernel, \"same\")"
   ]
  },
  {
   "cell_type": "code",
   "execution_count": 51,
   "id": "07ca22a2",
   "metadata": {},
   "outputs": [],
   "source": [
    "# Convolution done only using numpy\n",
    "def myConvolution(img, kernel, padding):\n",
    "\toffset = 1\n",
    "\tif padding:\n",
    "\t\t# https://stackoverflow.com/questions/35751306/python-how-to-pad-numpy-array-with-zeros\n",
    "\t\t# Refer to above explanation, but basically the array is the padding for each dimension\n",
    "\t\timg = np.pad(img, [(1, 1), (1, 1)], mode='constant')\n",
    "\t\toffset = 2 # offset for convolution answer (if padding, subtract more)\n",
    "\n",
    "\tflipped_kernel = np.rot90(kernel, k=2) # Flip kernel for convolution (automatically done by function usually)\n",
    "\tk_dim = flipped_kernel.shape[0] # square, so doesn't matter\n",
    "\n",
    "\trows, cols = img.shape\n",
    "\tconvoluted_img = np.zeros((rows - offset, cols - offset), dtype=int) # defining answer array with 0s\n",
    "\tfor i in range(cols - offset):\n",
    "\t\tfor j in range(rows - offset):\n",
    "\t\t\textracted_img = img[i:i+k_dim, j:j+k_dim] # extract nxn around pixel\n",
    "\t\t\tmultiplied = extracted_img * flipped_kernel # multiply pixel nxn and kernel together\n",
    "\t\t\tconvoluted_img[i][j] = sum(multiplied.flatten()) # summing all elements in array\n",
    "\n",
    "\treturn convoluted_img\n"
   ]
  },
  {
   "cell_type": "code",
   "execution_count": 52,
   "id": "1cd20524",
   "metadata": {},
   "outputs": [
    {
     "name": "stdout",
     "output_type": "stream",
     "text": [
      "[[ 10   6   6 -13]\n",
      " [ 24   8   8 -28]\n",
      " [ 40   8   8 -44]\n",
      " [ 38   6   6 -41]]\n"
     ]
    }
   ],
   "source": [
    "print(myConvolution(input_img, kernel, True))"
   ]
  },
  {
   "cell_type": "code",
   "execution_count": 53,
   "id": "133f6cd9",
   "metadata": {},
   "outputs": [
    {
     "name": "stdout",
     "output_type": "stream",
     "text": [
      "True\n",
      "[[ 10   6   6 -13]\n",
      " [ 24   8   8 -28]\n",
      " [ 40   8   8 -44]\n",
      " [ 38   6   6 -41]]\n"
     ]
    }
   ],
   "source": [
    "def checkConvolution(img, kernel, padding=True):\n",
    "\tif padding:\n",
    "\t\tproper = signal.convolve2d(img, kernel, \"same\")\n",
    "\telse:\n",
    "\t\tproper = signal.convolve2d(img, kernel, \"valid\")\n",
    "\t\t\n",
    "\tmine = myConvolution(img, kernel, padding)\n",
    "\t\n",
    "\tprint(np.array_equal(proper, mine))\n",
    "\tprint(mine)\n",
    "\n",
    "checkConvolution(input_img, kernel)"
   ]
  },
  {
   "cell_type": "code",
   "execution_count": 55,
   "id": "15b30486",
   "metadata": {},
   "outputs": [
    {
     "name": "stdout",
     "output_type": "stream",
     "text": [
      "True\n",
      "[[1 0 4]\n",
      " [4 1 1]\n",
      " [1 1 2]]\n"
     ]
    }
   ],
   "source": [
    "# Exercise 5: complete convolution by hand and check with above function\n",
    "test_img = np.array([1, 0, -2, 1, -1, 0, 1, 2, 0, 2, 1, 0, 1, 0, 0, 1])\n",
    "test_img = test_img.reshape(4, 4)\n",
    "test_kernel = np.array([2, -1, 1, 0])\n",
    "test_kernel = test_kernel.reshape(2, 2)\n",
    "\n",
    "checkConvolution(test_img, test_kernel, padding=False)"
   ]
  }
 ],
 "metadata": {
  "kernelspec": {
   "display_name": "Python 3 (ipykernel)",
   "language": "python",
   "name": "python3"
  },
  "language_info": {
   "codemirror_mode": {
    "name": "ipython",
    "version": 3
   },
   "file_extension": ".py",
   "mimetype": "text/x-python",
   "name": "python",
   "nbconvert_exporter": "python",
   "pygments_lexer": "ipython3",
   "version": "3.12.3"
  }
 },
 "nbformat": 4,
 "nbformat_minor": 5
}

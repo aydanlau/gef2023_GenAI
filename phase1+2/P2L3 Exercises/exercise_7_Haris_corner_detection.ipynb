{
 "cells": [
  {
   "cell_type": "code",
   "execution_count": 1,
   "id": "a2886dff-17cf-499b-9ec4-e267e3d7684a",
   "metadata": {},
   "outputs": [],
   "source": [
    "import numpy as np\n",
    "import matplotlib.pyplot as plt\n",
    "from scipy import signal\n"
   ]
  },
  {
   "cell_type": "code",
   "execution_count": 2,
   "id": "996e795e-8c75-4265-9595-515ec9d4db39",
   "metadata": {},
   "outputs": [],
   "source": [
    "#Generate an image\n",
    "# A 200x200 image with a big white square at the centre\n",
    "image = np.zeros((200, 200), dtype=np.uint8)\n",
    "\n",
    "####--- parameters --------\n",
    "line_color = 255\n",
    "line_width = 20\n",
    "\n",
    "#---- horizontal and vertical begin --------#\n",
    "h_begin = 50\n",
    "h_end = 150\n",
    "v_begin = 50\n",
    "v_end = 150\n",
    "\n",
    "vm_begin = 100 - int(line_width/2)\n",
    "vm_end = 100 + int(line_width/2)\n",
    "#------------------------------------------------\n",
    "\n",
    "# Draw the letter H\n",
    "# left vertical strip\n",
    "image[v_begin:v_end, h_begin:(h_begin+line_width)] = line_color\n",
    "\n",
    "# right vertical strip\n",
    "image[v_begin:v_end, (h_end-line_width):h_end] = line_color\n",
    "\n",
    "# middle strip\n",
    "image[vm_begin:vm_end, h_begin:h_end] = line_color"
   ]
  },
  {
   "cell_type": "code",
   "execution_count": 3,
   "id": "cf69a723-70d6-4c1a-9798-b9f6a7e618ea",
   "metadata": {},
   "outputs": [
    {
     "data": {
      "text/plain": [
       "<matplotlib.image.AxesImage at 0x1afe31e49a0>"
      ]
     },
     "execution_count": 3,
     "metadata": {},
     "output_type": "execute_result"
    },
    {
     "data": {
      "image/png": "[encoded data removed]",
      "text/plain": [
       "<Figure size 432x288 with 1 Axes>"
      ]
     },
     "metadata": {
      "needs_background": "light"
     },
     "output_type": "display_data"
    }
   ],
   "source": [
    "#show image\n",
    "#plt.imshow(image)\n",
    "plt.imshow(image, cmap='gray')"
   ]
  },
  {
   "cell_type": "code",
   "execution_count": 4,
   "id": "8f6c794d-0369-4c73-bbad-22892a69d1c3",
   "metadata": {},
   "outputs": [],
   "source": [
    "# generate the sobel filters   "
   ]
  },
  {
   "cell_type": "code",
   "execution_count": 5,
   "id": "845324ab-6b34-4ea5-a630-49618c19c8bd",
   "metadata": {},
   "outputs": [],
   "source": [
    "# x-kernel \n",
    "sobelx = np.array([[-1, 0, 1],[-2, 0, 2],[-1, 0, 1]])\n",
    "\n",
    "#y-kernel\n",
    "sobely = np.array([[-1, -2, -1],[ 0,  0,  0],[ 1,  2,  1]])"
   ]
  },
  {
   "cell_type": "code",
   "execution_count": 6,
   "id": "d5f4d15b-5d85-4abc-93d4-09daeb28321a",
   "metadata": {},
   "outputs": [],
   "source": [
    "# Get the first derivative Ix\n",
    "Ix = signal.convolve2d(image, sobelx, \"same\")\n",
    "Iy = signal.convolve2d(image, sobely, \"same\")\n",
    "\n",
    "#--- scale non-zero values to 255\n",
    "Ix[Ix != 0] = 255\n",
    "Iy[Iy != 0] = 255"
   ]
  },
  {
   "cell_type": "code",
   "execution_count": 7,
   "id": "263563ec-0297-4c9e-95b4-53ea1930b9e0",
   "metadata": {},
   "outputs": [
    {
     "data": {
      "text/plain": [
       "<matplotlib.image.AxesImage at 0x1afe32fa670>"
      ]
     },
     "execution_count": 7,
     "metadata": {},
     "output_type": "execute_result"
    },
    {
     "data": {
      "image/png": "[encoded data removed]",
      "text/plain": [
       "<Figure size 432x288 with 1 Axes>"
      ]
     },
     "metadata": {
      "needs_background": "light"
     },
     "output_type": "display_data"
    }
   ],
   "source": [
    "##----- Sobel\n",
    "#-- Find the sobel operator Sobel=sqrt( Ix*Ix + Iy*Iy )\n",
    "\n",
    "Sobel = np.sqrt( (Ix*Ix) + (Iy*Iy) )\n",
    "#plt.imshow(image)\n",
    "plt.imshow(Sobel, cmap='gray')"
   ]
  },
  {
   "cell_type": "code",
   "execution_count": 8,
   "id": "cbd349df-8abf-4617-8862-ae6bac8c84cf",
   "metadata": {},
   "outputs": [],
   "source": [
    "# Get the second derivative Ixx \n",
    "# To get second derivative differentiate twice.\n",
    "Ixx = signal.convolve2d(Ix, sobelx, \"same\")     \n",
    "# Iyy  \n",
    "Iyy = signal.convolve2d(Iy, sobely, \"same\")\n",
    "# Ixy Image \n",
    "Ixy = signal.convolve2d(Ix, sobely, \"same\")"
   ]
  },
  {
   "cell_type": "code",
   "execution_count": 9,
   "id": "3e48f642-ea4e-4f00-b817-c3df86e4f003",
   "metadata": {},
   "outputs": [],
   "source": [
    "#Finally calculate Harris operator\n",
    "# the Herssian matrix\n",
    "Hm = np.array([[Ixx, Ixy],[Ixy, Iyy]])"
   ]
  },
  {
   "cell_type": "code",
   "execution_count": 10,
   "id": "cd89801e-fba2-4741-bc44-9cfd8d663d64",
   "metadata": {},
   "outputs": [],
   "source": [
    "# Get Determinant and trace \n",
    "det = Ixx*Iyy - Ixy**2\n",
    "det2 = np.linalg.det(Hm)\n",
    "\n",
    "# trace is the sum of the diagonal elements\n",
    "trace = Ixx + Iyy\n",
    "trace2 = np.trace(Hm)\n",
    "\n",
    "# Harris is det(H) - a * trace(H) let a = 0.2 , \n",
    "H = det - 0.2 * trace"
   ]
  },
  {
   "cell_type": "code",
   "execution_count": 12,
   "id": "d9ec0928-c88b-4230-8438-63be0e8b8b95",
   "metadata": {},
   "outputs": [
    {
     "data": {
      "image/png": "[encoded data removed]",
      "text/plain": [
       "<Figure size 432x288 with 1 Axes>"
      ]
     },
     "metadata": {
      "needs_background": "light"
     },
     "output_type": "display_data"
    }
   ],
   "source": [
    "plt.imshow(np.abs(H), cmap='gray')\n",
    "plt.show()"
   ]
  },
  {
   "cell_type": "code",
   "execution_count": null,
   "id": "836d6c06-e813-4d2b-9cca-587e50f6f9ae",
   "metadata": {},
   "outputs": [],
   "source": []
  }
 ],
 "metadata": {
  "kernelspec": {
   "display_name": "Python 3 (ipykernel)",
   "language": "python",
   "name": "python3"
  },
  "language_info": {
   "codemirror_mode": {
    "name": "ipython",
    "version": 3
   },
   "file_extension": ".py",
   "mimetype": "text/x-python",
   "name": "python",
   "nbconvert_exporter": "python",
   "pygments_lexer": "ipython3",
   "version": "3.9.12"
  }
 },
 "nbformat": 4,
 "nbformat_minor": 5
}

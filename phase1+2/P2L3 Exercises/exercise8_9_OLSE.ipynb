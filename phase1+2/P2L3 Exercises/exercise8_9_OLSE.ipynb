{
 "cells": [
  {
   "cell_type": "code",
   "execution_count": 1,
   "metadata": {},
   "outputs": [],
   "source": [
    "import numpy as np"
   ]
  },
  {
   "cell_type": "code",
   "execution_count": 21,
   "metadata": {},
   "outputs": [],
   "source": [
    "def linearRegression(data):\n",
    "\t# Calculating math stuff\n",
    "\tn = data.shape[0]\n",
    "\tsum_x = np.sum(data[:, 0])\n",
    "\tsum_y = np.sum(data[:, 1])\n",
    "\tsum_x2 = np.sum((data[:, 0] ** 2))\n",
    "\tsum_xy = np.sum(np.prod(data, axis=1))\n",
    "\n",
    "\tgrad = round((n * sum_xy - sum_x * sum_y) / (n * sum_x2 - sum_x ** 2), 4) # Beta 1\n",
    "\ty_int = round((sum_y * sum_x2 - sum_x * sum_xy) / (n * sum_x2 - sum_x ** 2), 4) # Beta 0\n",
    "\n",
    "\treturn grad, y_int"
   ]
  },
  {
   "cell_type": "code",
   "execution_count": 22,
   "metadata": {},
   "outputs": [
    {
     "name": "stdout",
     "output_type": "stream",
     "text": [
      "y = 0.0x + 5.5\n",
      "y = 0.1867x + 4.8\n"
     ]
    }
   ],
   "source": [
    "# Exercise 8 & 9: Compute linear regression equation with XY data\n",
    "data1 = np.array([[3, 8], [9, 6], [5, 4], [3, 4]])\n",
    "grad1, y_int1 = linearRegression(data1)\n",
    "print(f\"y = {grad1}x + {y_int1}\")\n",
    "\n",
    "data2 = np.array([[4, 6], [7, 5], [3, 8], [1, 3]])\n",
    "grad2, y_int2 = linearRegression(data2)\n",
    "print(f\"y = {grad2}x + {y_int2}\")"
   ]
  }
 ],
 "metadata": {
  "kernelspec": {
   "display_name": "Python 3",
   "language": "python",
   "name": "python3"
  },
  "language_info": {
   "codemirror_mode": {
    "name": "ipython",
    "version": 3
   },
   "file_extension": ".py",
   "mimetype": "text/x-python",
   "name": "python",
   "nbconvert_exporter": "python",
   "pygments_lexer": "ipython3",
   "version": "3.12.3"
  }
 },
 "nbformat": 4,
 "nbformat_minor": 2
}
